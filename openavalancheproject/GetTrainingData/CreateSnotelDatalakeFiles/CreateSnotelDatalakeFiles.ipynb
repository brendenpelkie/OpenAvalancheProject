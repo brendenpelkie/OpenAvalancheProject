{
 "cells": [
  {
   "cell_type": "code",
   "execution_count": 1,
   "metadata": {},
   "outputs": [],
   "source": [
    "import pandas as pd\n",
    "import dask.dataframe as dd\n",
    "import os"
   ]
  },
  {
   "cell_type": "code",
   "execution_count": null,
   "metadata": {},
   "outputs": [],
   "source": [
    "#remove the header from the csv files; only need to do this once\n",
    "#directory = 'E:/Data/SnowData/Training/'\n",
    "#for filename in os.listdir(directory):\n",
    "#    if filename.endswith('.csv'): \n",
    "#        f = open(os.path.join(directory, filename), 'r')\n",
    "#        f2 = open(os.path.join('E:/Data/SnowData/TrainingCleaned/', filename), 'w')\n",
    "#        header = True\n",
    "#        for line in f:\n",
    "#            if(line.startswith('#')):\n",
    "#                continue\n",
    "#            else:\n",
    "#                if(header):\n",
    "#                    f2.write(line.strip() + \",State\\n\")\n",
    "#                    header = False\n",
    "#                else:\n",
    "#                    f2.write(line.strip() + \",\" + filename[6:8] + \"\\n\")\n",
    "#        f.close\n",
    "#        f2.close\n",
    "#    else:\n",
    "#        continue\n"
   ]
  },
  {
   "cell_type": "code",
   "execution_count": 29,
   "metadata": {},
   "outputs": [],
   "source": [
    "#read all states for a season\n",
    "seasonDf = dd.read_csv('E:/Data/SnowData/TrainingCleaned/snotel*1617.csv', assume_missing=True, parse_dates=[0])\n",
    "#TODO: need to make sure all data is parsed correctly includign the dates\n"
   ]
  },
  {
   "cell_type": "code",
   "execution_count": 30,
   "metadata": {},
   "outputs": [
    {
     "data": {
      "text/html": [
       "<div>\n",
       "<style scoped>\n",
       "    .dataframe tbody tr th:only-of-type {\n",
       "        vertical-align: middle;\n",
       "    }\n",
       "\n",
       "    .dataframe tbody tr th {\n",
       "        vertical-align: top;\n",
       "    }\n",
       "\n",
       "    .dataframe thead th {\n",
       "        text-align: right;\n",
       "    }\n",
       "</style>\n",
       "<table border=\"1\" class=\"dataframe\">\n",
       "  <thead>\n",
       "    <tr style=\"text-align: right;\">\n",
       "      <th></th>\n",
       "      <th>Date</th>\n",
       "      <th>Station Name</th>\n",
       "      <th>Elevation (ft)</th>\n",
       "      <th>Latitude</th>\n",
       "      <th>Longitude</th>\n",
       "      <th>Snow Water Equivalent (in)</th>\n",
       "      <th>Precipitation Accumulation (in)</th>\n",
       "      <th>Snow Depth (in)</th>\n",
       "      <th>Air Temperature Observed (degF)</th>\n",
       "      <th>State</th>\n",
       "    </tr>\n",
       "  </thead>\n",
       "  <tbody>\n",
       "    <tr>\n",
       "      <th>0</th>\n",
       "      <td>2016-11-01 00:00:00</td>\n",
       "      <td>Alexander Lake</td>\n",
       "      <td>160.0</td>\n",
       "      <td>61.74967</td>\n",
       "      <td>-150.88967</td>\n",
       "      <td>0.0</td>\n",
       "      <td>0.5</td>\n",
       "      <td>0.0</td>\n",
       "      <td>35.0</td>\n",
       "      <td>AK</td>\n",
       "    </tr>\n",
       "    <tr>\n",
       "      <th>1</th>\n",
       "      <td>2016-11-01 01:00:00</td>\n",
       "      <td>Alexander Lake</td>\n",
       "      <td>160.0</td>\n",
       "      <td>61.74967</td>\n",
       "      <td>-150.88967</td>\n",
       "      <td>0.3</td>\n",
       "      <td>0.5</td>\n",
       "      <td>0.0</td>\n",
       "      <td>35.0</td>\n",
       "      <td>AK</td>\n",
       "    </tr>\n",
       "    <tr>\n",
       "      <th>2</th>\n",
       "      <td>2016-11-01 02:00:00</td>\n",
       "      <td>Alexander Lake</td>\n",
       "      <td>160.0</td>\n",
       "      <td>61.74967</td>\n",
       "      <td>-150.88967</td>\n",
       "      <td>0.3</td>\n",
       "      <td>0.5</td>\n",
       "      <td>0.0</td>\n",
       "      <td>34.0</td>\n",
       "      <td>AK</td>\n",
       "    </tr>\n",
       "    <tr>\n",
       "      <th>3</th>\n",
       "      <td>2016-11-01 03:00:00</td>\n",
       "      <td>Alexander Lake</td>\n",
       "      <td>160.0</td>\n",
       "      <td>61.74967</td>\n",
       "      <td>-150.88967</td>\n",
       "      <td>0.3</td>\n",
       "      <td>0.5</td>\n",
       "      <td>0.0</td>\n",
       "      <td>33.0</td>\n",
       "      <td>AK</td>\n",
       "    </tr>\n",
       "    <tr>\n",
       "      <th>4</th>\n",
       "      <td>2016-11-01 04:00:00</td>\n",
       "      <td>Alexander Lake</td>\n",
       "      <td>160.0</td>\n",
       "      <td>61.74967</td>\n",
       "      <td>-150.88967</td>\n",
       "      <td>0.3</td>\n",
       "      <td>0.5</td>\n",
       "      <td>0.0</td>\n",
       "      <td>32.0</td>\n",
       "      <td>AK</td>\n",
       "    </tr>\n",
       "  </tbody>\n",
       "</table>\n",
       "</div>"
      ],
      "text/plain": [
       "                 Date    Station Name  Elevation (ft)  Latitude  Longitude  \\\n",
       "0 2016-11-01 00:00:00  Alexander Lake           160.0  61.74967 -150.88967   \n",
       "1 2016-11-01 01:00:00  Alexander Lake           160.0  61.74967 -150.88967   \n",
       "2 2016-11-01 02:00:00  Alexander Lake           160.0  61.74967 -150.88967   \n",
       "3 2016-11-01 03:00:00  Alexander Lake           160.0  61.74967 -150.88967   \n",
       "4 2016-11-01 04:00:00  Alexander Lake           160.0  61.74967 -150.88967   \n",
       "\n",
       "   Snow Water Equivalent (in)  Precipitation Accumulation (in)  \\\n",
       "0                         0.0                              0.5   \n",
       "1                         0.3                              0.5   \n",
       "2                         0.3                              0.5   \n",
       "3                         0.3                              0.5   \n",
       "4                         0.3                              0.5   \n",
       "\n",
       "   Snow Depth (in)  Air Temperature Observed (degF) State  \n",
       "0              0.0                             35.0    AK  \n",
       "1              0.0                             35.0    AK  \n",
       "2              0.0                             34.0    AK  \n",
       "3              0.0                             33.0    AK  \n",
       "4              0.0                             32.0    AK  "
      ]
     },
     "execution_count": 30,
     "metadata": {},
     "output_type": "execute_result"
    }
   ],
   "source": [
    "seasonDf.head()"
   ]
  },
  {
   "cell_type": "code",
   "execution_count": 31,
   "metadata": {},
   "outputs": [],
   "source": [
    "#add 8 hours (do not adjust for DST) and correct date output format\n",
    "seasonDf['Date'] +=  pd.to_timedelta(8, unit='h')"
   ]
  },
  {
   "cell_type": "code",
   "execution_count": 32,
   "metadata": {},
   "outputs": [
    {
     "data": {
      "text/html": [
       "<div>\n",
       "<style scoped>\n",
       "    .dataframe tbody tr th:only-of-type {\n",
       "        vertical-align: middle;\n",
       "    }\n",
       "\n",
       "    .dataframe tbody tr th {\n",
       "        vertical-align: top;\n",
       "    }\n",
       "\n",
       "    .dataframe thead th {\n",
       "        text-align: right;\n",
       "    }\n",
       "</style>\n",
       "<table border=\"1\" class=\"dataframe\">\n",
       "  <thead>\n",
       "    <tr style=\"text-align: right;\">\n",
       "      <th></th>\n",
       "      <th>Date</th>\n",
       "      <th>Station Name</th>\n",
       "      <th>Elevation (ft)</th>\n",
       "      <th>Latitude</th>\n",
       "      <th>Longitude</th>\n",
       "      <th>Snow Water Equivalent (in)</th>\n",
       "      <th>Precipitation Accumulation (in)</th>\n",
       "      <th>Snow Depth (in)</th>\n",
       "      <th>Air Temperature Observed (degF)</th>\n",
       "      <th>State</th>\n",
       "    </tr>\n",
       "  </thead>\n",
       "  <tbody>\n",
       "    <tr>\n",
       "      <th>0</th>\n",
       "      <td>2016-11-01 08:00:00</td>\n",
       "      <td>Alexander Lake</td>\n",
       "      <td>160.0</td>\n",
       "      <td>61.74967</td>\n",
       "      <td>-150.88967</td>\n",
       "      <td>0.0</td>\n",
       "      <td>0.5</td>\n",
       "      <td>0.0</td>\n",
       "      <td>35.0</td>\n",
       "      <td>AK</td>\n",
       "    </tr>\n",
       "    <tr>\n",
       "      <th>1</th>\n",
       "      <td>2016-11-01 09:00:00</td>\n",
       "      <td>Alexander Lake</td>\n",
       "      <td>160.0</td>\n",
       "      <td>61.74967</td>\n",
       "      <td>-150.88967</td>\n",
       "      <td>0.3</td>\n",
       "      <td>0.5</td>\n",
       "      <td>0.0</td>\n",
       "      <td>35.0</td>\n",
       "      <td>AK</td>\n",
       "    </tr>\n",
       "    <tr>\n",
       "      <th>2</th>\n",
       "      <td>2016-11-01 10:00:00</td>\n",
       "      <td>Alexander Lake</td>\n",
       "      <td>160.0</td>\n",
       "      <td>61.74967</td>\n",
       "      <td>-150.88967</td>\n",
       "      <td>0.3</td>\n",
       "      <td>0.5</td>\n",
       "      <td>0.0</td>\n",
       "      <td>34.0</td>\n",
       "      <td>AK</td>\n",
       "    </tr>\n",
       "    <tr>\n",
       "      <th>3</th>\n",
       "      <td>2016-11-01 11:00:00</td>\n",
       "      <td>Alexander Lake</td>\n",
       "      <td>160.0</td>\n",
       "      <td>61.74967</td>\n",
       "      <td>-150.88967</td>\n",
       "      <td>0.3</td>\n",
       "      <td>0.5</td>\n",
       "      <td>0.0</td>\n",
       "      <td>33.0</td>\n",
       "      <td>AK</td>\n",
       "    </tr>\n",
       "    <tr>\n",
       "      <th>4</th>\n",
       "      <td>2016-11-01 12:00:00</td>\n",
       "      <td>Alexander Lake</td>\n",
       "      <td>160.0</td>\n",
       "      <td>61.74967</td>\n",
       "      <td>-150.88967</td>\n",
       "      <td>0.3</td>\n",
       "      <td>0.5</td>\n",
       "      <td>0.0</td>\n",
       "      <td>32.0</td>\n",
       "      <td>AK</td>\n",
       "    </tr>\n",
       "  </tbody>\n",
       "</table>\n",
       "</div>"
      ],
      "text/plain": [
       "                 Date    Station Name  Elevation (ft)  Latitude  Longitude  \\\n",
       "0 2016-11-01 08:00:00  Alexander Lake           160.0  61.74967 -150.88967   \n",
       "1 2016-11-01 09:00:00  Alexander Lake           160.0  61.74967 -150.88967   \n",
       "2 2016-11-01 10:00:00  Alexander Lake           160.0  61.74967 -150.88967   \n",
       "3 2016-11-01 11:00:00  Alexander Lake           160.0  61.74967 -150.88967   \n",
       "4 2016-11-01 12:00:00  Alexander Lake           160.0  61.74967 -150.88967   \n",
       "\n",
       "   Snow Water Equivalent (in)  Precipitation Accumulation (in)  \\\n",
       "0                         0.0                              0.5   \n",
       "1                         0.3                              0.5   \n",
       "2                         0.3                              0.5   \n",
       "3                         0.3                              0.5   \n",
       "4                         0.3                              0.5   \n",
       "\n",
       "   Snow Depth (in)  Air Temperature Observed (degF) State  \n",
       "0              0.0                             35.0    AK  \n",
       "1              0.0                             35.0    AK  \n",
       "2              0.0                             34.0    AK  \n",
       "3              0.0                             33.0    AK  \n",
       "4              0.0                             32.0    AK  "
      ]
     },
     "execution_count": 32,
     "metadata": {},
     "output_type": "execute_result"
    }
   ],
   "source": [
    "seasonDf.head()"
   ]
  },
  {
   "cell_type": "code",
   "execution_count": 33,
   "metadata": {},
   "outputs": [],
   "source": [
    "#pull frame by hour\n",
    "dates = seasonDf['Date'].unique().compute()"
   ]
  },
  {
   "cell_type": "code",
   "execution_count": 34,
   "metadata": {},
   "outputs": [
    {
     "data": {
      "text/plain": [
       "0   2016-11-01 08:00:00\n",
       "1   2016-11-01 09:00:00\n",
       "2   2016-11-01 10:00:00\n",
       "3   2016-11-01 11:00:00\n",
       "4   2016-11-01 12:00:00\n",
       "Name: Date, dtype: datetime64[ns]"
      ]
     },
     "execution_count": 34,
     "metadata": {},
     "output_type": "execute_result"
    }
   ],
   "source": [
    "dates.head()"
   ]
  },
  {
   "cell_type": "code",
   "execution_count": 35,
   "metadata": {},
   "outputs": [],
   "source": [
    "seasonComputed = seasonDf.compute()"
   ]
  },
  {
   "cell_type": "code",
   "execution_count": 36,
   "metadata": {},
   "outputs": [],
   "source": [
    "for d in dates:\n",
    "    hourDf = seasonComputed[seasonComputed['Date']==d]\n",
    "    hourDf.to_csv('E:/Data/SnowData/TrainingParsed/16-17/' + d.strftime('%Y%m%d.%H') + '.csv', date_format=\"%Y%m%d %H:00\", index=False)"
   ]
  },
  {
   "cell_type": "code",
   "execution_count": null,
   "metadata": {},
   "outputs": [],
   "source": [
    "hourDf.head()"
   ]
  },
  {
   "cell_type": "code",
   "execution_count": 53,
   "metadata": {},
   "outputs": [],
   "source": [
    "from shutil import copy\n",
    "#put them in the correct directory layout\n",
    "directory = 'E:/Data/SnowData/TrainingParsed/17-18/'\n",
    "destination = 'E:/Data/SnowData/TrainingOrganized/'\n",
    "for filename in os.listdir(directory):\n",
    "    if filename.endswith('.csv'): \n",
    "        year = filename[:4]\n",
    "        month = filename[4:6]\n",
    "        day = filename[6:8]\n",
    "        complete_destination = os.path.join(destination, year + '/' + month + '/' + day + '/')\n",
    "        if(not os.path.isdir(complete_destination)):\n",
    "            os.makedirs(complete_destination,mode=0o777)\n",
    "            \n",
    "        copy(os.path.join(directory, filename), complete_destination)\n",
    "        "
   ]
  },
  {
   "cell_type": "code",
   "execution_count": null,
   "metadata": {},
   "outputs": [],
   "source": []
  }
 ],
 "metadata": {
  "kernelspec": {
   "display_name": "Python 3",
   "language": "python",
   "name": "python3"
  },
  "language_info": {
   "codemirror_mode": {
    "name": "ipython",
    "version": 3
   },
   "file_extension": ".py",
   "mimetype": "text/x-python",
   "name": "python",
   "nbconvert_exporter": "python",
   "pygments_lexer": "ipython3",
   "version": "3.5.3"
  }
 },
 "nbformat": 4,
 "nbformat_minor": 2
}
