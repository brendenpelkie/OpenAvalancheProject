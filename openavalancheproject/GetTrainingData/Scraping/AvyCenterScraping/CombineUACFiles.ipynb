{
 "cells": [
  {
   "cell_type": "code",
   "execution_count": 1,
   "metadata": {},
   "outputs": [],
   "source": [
    "import pandas as pd"
   ]
  },
  {
   "cell_type": "code",
   "execution_count": 45,
   "metadata": {},
   "outputs": [],
   "source": [
    "uac_logan_df = pd.read_csv('uacLogan.csv', low_memory=False)\n",
    "uac_logan2_df = pd.read_csv('uacLogan2.csv', low_memory=False)\n",
    "uac_moab_df = pd.read_csv('uacMoab.csv', low_memory=False)\n",
    "uac_ogden_df = pd.read_csv('uacOgden.csv', low_memory=False)\n",
    "uac_ogden2_df = pd.read_csv('uacOgden2.csv', low_memory=False)\n",
    "uac_provo_df = pd.read_csv('uacProvo.csv', low_memory=False)\n",
    "uac_saltlake_df = pd.read_csv('uacSaltLake.csv', low_memory=False)\n",
    "uac_skyline_df = pd.read_csv('uacSkyline.csv', low_memory=False)\n",
    "uac_uintas_df = pd.read_csv('uacUintas.csv', low_memory=False)\n",
    "uac_abajo_df = pd.read_csv('uacAbajo.csv', low_memory=False)\n"
   ]
  },
  {
   "cell_type": "code",
   "execution_count": 46,
   "metadata": {},
   "outputs": [],
   "source": [
    "uac_df = pd.concat([uac_logan_df, uac_logan2_df, uac_moab_df, uac_ogden_df, uac_ogden2_df, uac_provo_df, uac_saltlake_df, uac_skyline_df, uac_uintas_df, uac_abajo_df], sort=True)"
   ]
  },
  {
   "cell_type": "code",
   "execution_count": 47,
   "metadata": {},
   "outputs": [],
   "source": [
    "uac_df.to_csv(\"uactmp.csv\", index=False)"
   ]
  },
  {
   "cell_type": "code",
   "execution_count": null,
   "metadata": {},
   "outputs": [],
   "source": []
  }
 ],
 "metadata": {
  "kernelspec": {
   "display_name": "Python 3",
   "language": "python",
   "name": "python3"
  },
  "language_info": {
   "codemirror_mode": {
    "name": "ipython",
    "version": 3
   },
   "file_extension": ".py",
   "mimetype": "text/x-python",
   "name": "python",
   "nbconvert_exporter": "python",
   "pygments_lexer": "ipython3",
   "version": "3.5.3"
  }
 },
 "nbformat": 4,
 "nbformat_minor": 2
}
