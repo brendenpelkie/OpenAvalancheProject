{
 "cells": [
  {
   "cell_type": "code",
   "execution_count": 1,
   "metadata": {},
   "outputs": [],
   "source": [
    "from openavalancheproject.prep_ml import PrepML"
   ]
  },
  {
   "cell_type": "code",
   "execution_count": 2,
   "metadata": {},
   "outputs": [],
   "source": [
    "\n",
    "interpolate = 1 #interpolation factor: whether we can to augment the data through lat/lon interpolation; 1 no interpolation, 4 is 4x interpolation\n",
    "\n",
    "data_root = '/media/scottcha/E1/Data/OAPMLData/'\n"
   ]
  },
  {
   "cell_type": "code",
   "execution_count": 4,
   "metadata": {},
   "outputs": [],
   "source": [
    "pml = PrepML(data_root, interpolate, date_start='2015-11-01', date_end='2017-04-30', date_train_test_cutoff='2016-11-01')"
   ]
  },
  {
   "cell_type": "code",
   "execution_count": 5,
   "metadata": {},
   "outputs": [],
   "source": [
    "pml.regions = {            \n",
    "            'Washington': ['Mt Hood', 'Olympics', 'Snoqualmie Pass', 'Stevens Pass',\n",
    "            'WA Cascades East, Central', 'WA Cascades East, North', 'WA Cascades East, South',\n",
    "            'WA Cascades West, Central', 'WA Cascades West, Mt Baker', 'WA Cascades West, South'\n",
    "            ]}"
   ]
  },
  {
   "cell_type": "code",
   "execution_count": 6,
   "metadata": {},
   "outputs": [
    {
     "name": "stdout",
     "output_type": "stream",
     "text": [
      "Mt Hood\n",
      "Olympics\n",
      "Snoqualmie Pass\n",
      "Stevens Pass\n",
      "WA Cascades East, Central\n",
      "WA Cascades East, North\n",
      "WA Cascades East, South\n",
      "WA Cascades West, Central\n",
      "WA Cascades West, Mt Baker\n",
      "WA Cascades West, South\n",
      "CPU times: user 19.2 s, sys: 703 ms, total: 19.9 s\n",
      "Wall time: 20.2 s\n"
     ]
    }
   ],
   "source": [
    "%time train_labels, test_labels = pml.prep_labels()"
   ]
  },
  {
   "cell_type": "code",
   "execution_count": 12,
   "metadata": {},
   "outputs": [
    {
     "data": {
      "text/plain": [
       "'Mt Hood'"
      ]
     },
     "execution_count": 12,
     "metadata": {},
     "output_type": "execute_result"
    }
   ],
   "source": [
    "train_labels.loc[0, 'UnifiedRegion']"
   ]
  },
  {
   "cell_type": "code",
   "execution_count": 9,
   "metadata": {},
   "outputs": [
    {
     "data": {
      "text/html": [
       "<div>\n",
       "<style scoped>\n",
       "    .dataframe tbody tr th:only-of-type {\n",
       "        vertical-align: middle;\n",
       "    }\n",
       "\n",
       "    .dataframe tbody tr th {\n",
       "        vertical-align: top;\n",
       "    }\n",
       "\n",
       "    .dataframe thead th {\n",
       "        text-align: right;\n",
       "    }\n",
       "</style>\n",
       "<table border=\"1\" class=\"dataframe\">\n",
       "  <thead>\n",
       "    <tr style=\"text-align: right;\">\n",
       "      <th></th>\n",
       "      <th>UnifiedRegion</th>\n",
       "      <th>latitude</th>\n",
       "      <th>longitude</th>\n",
       "      <th>UnifiedRegionleft</th>\n",
       "      <th>Cornices_Likelihood</th>\n",
       "      <th>Cornices_MaximumSize</th>\n",
       "      <th>Cornices_MinimumSize</th>\n",
       "      <th>Cornices_OctagonAboveTreelineEast</th>\n",
       "      <th>Cornices_OctagonAboveTreelineNorth</th>\n",
       "      <th>Cornices_OctagonAboveTreelineNorthEast</th>\n",
       "      <th>...</th>\n",
       "      <th>image_types</th>\n",
       "      <th>image_urls</th>\n",
       "      <th>rose_url</th>\n",
       "      <th>BottomLineSummary</th>\n",
       "      <th>Day1WarningText</th>\n",
       "      <th>Day2WarningText</th>\n",
       "      <th>parsed_date</th>\n",
       "      <th>season</th>\n",
       "      <th>Day1DangerAboveTreelineValue</th>\n",
       "      <th>Day1DangerAboveTreelineWithTrend</th>\n",
       "    </tr>\n",
       "  </thead>\n",
       "  <tbody>\n",
       "    <tr>\n",
       "      <th>0</th>\n",
       "      <td>Mt Hood</td>\n",
       "      <td>45.25</td>\n",
       "      <td>-121.75</td>\n",
       "      <td>Mt Hood</td>\n",
       "      <td>no-data</td>\n",
       "      <td>no-data</td>\n",
       "      <td>no-data</td>\n",
       "      <td>no-data</td>\n",
       "      <td>no-data</td>\n",
       "      <td>no-data</td>\n",
       "      <td>...</td>\n",
       "      <td>no-data</td>\n",
       "      <td>no-data</td>\n",
       "      <td>no-data</td>\n",
       "      <td>no-data</td>\n",
       "      <td>no-data</td>\n",
       "      <td>no-data</td>\n",
       "      <td>2015-12-05</td>\n",
       "      <td>15-16</td>\n",
       "      <td>1.0</td>\n",
       "      <td>Moderate_Initial</td>\n",
       "    </tr>\n",
       "    <tr>\n",
       "      <th>1</th>\n",
       "      <td>Mt Hood</td>\n",
       "      <td>45.25</td>\n",
       "      <td>-121.75</td>\n",
       "      <td>Mt Hood</td>\n",
       "      <td>no-data</td>\n",
       "      <td>no-data</td>\n",
       "      <td>no-data</td>\n",
       "      <td>no-data</td>\n",
       "      <td>no-data</td>\n",
       "      <td>no-data</td>\n",
       "      <td>...</td>\n",
       "      <td>no-data</td>\n",
       "      <td>no-data</td>\n",
       "      <td>no-data</td>\n",
       "      <td>no-data</td>\n",
       "      <td>no-data</td>\n",
       "      <td>no-data</td>\n",
       "      <td>2015-12-06</td>\n",
       "      <td>15-16</td>\n",
       "      <td>1.0</td>\n",
       "      <td>Moderate_Flat</td>\n",
       "    </tr>\n",
       "    <tr>\n",
       "      <th>2</th>\n",
       "      <td>Mt Hood</td>\n",
       "      <td>45.25</td>\n",
       "      <td>-121.75</td>\n",
       "      <td>Mt Hood</td>\n",
       "      <td>no-data</td>\n",
       "      <td>no-data</td>\n",
       "      <td>no-data</td>\n",
       "      <td>no-data</td>\n",
       "      <td>no-data</td>\n",
       "      <td>no-data</td>\n",
       "      <td>...</td>\n",
       "      <td>no-data</td>\n",
       "      <td>no-data</td>\n",
       "      <td>no-data</td>\n",
       "      <td>no-data</td>\n",
       "      <td>no-data</td>\n",
       "      <td>no-data</td>\n",
       "      <td>2015-12-07</td>\n",
       "      <td>15-16</td>\n",
       "      <td>2.0</td>\n",
       "      <td>Considerable_Rising</td>\n",
       "    </tr>\n",
       "    <tr>\n",
       "      <th>3</th>\n",
       "      <td>Mt Hood</td>\n",
       "      <td>45.25</td>\n",
       "      <td>-121.75</td>\n",
       "      <td>Mt Hood</td>\n",
       "      <td>no-data</td>\n",
       "      <td>no-data</td>\n",
       "      <td>no-data</td>\n",
       "      <td>no-data</td>\n",
       "      <td>no-data</td>\n",
       "      <td>no-data</td>\n",
       "      <td>...</td>\n",
       "      <td>no-data</td>\n",
       "      <td>no-data</td>\n",
       "      <td>no-data</td>\n",
       "      <td>no-data</td>\n",
       "      <td>no-data</td>\n",
       "      <td>no-data</td>\n",
       "      <td>2015-12-08</td>\n",
       "      <td>15-16</td>\n",
       "      <td>2.0</td>\n",
       "      <td>Considerable_Flat</td>\n",
       "    </tr>\n",
       "    <tr>\n",
       "      <th>4</th>\n",
       "      <td>Mt Hood</td>\n",
       "      <td>45.25</td>\n",
       "      <td>-121.75</td>\n",
       "      <td>Mt Hood</td>\n",
       "      <td>no-data</td>\n",
       "      <td>no-data</td>\n",
       "      <td>no-data</td>\n",
       "      <td>no-data</td>\n",
       "      <td>no-data</td>\n",
       "      <td>no-data</td>\n",
       "      <td>...</td>\n",
       "      <td>no-data</td>\n",
       "      <td>no-data</td>\n",
       "      <td>no-data</td>\n",
       "      <td>no-data</td>\n",
       "      <td>no-data</td>\n",
       "      <td>no-data</td>\n",
       "      <td>2015-12-09</td>\n",
       "      <td>15-16</td>\n",
       "      <td>1.0</td>\n",
       "      <td>Moderate_Falling</td>\n",
       "    </tr>\n",
       "  </tbody>\n",
       "</table>\n",
       "<p>5 rows × 302 columns</p>\n",
       "</div>"
      ],
      "text/plain": [
       "  UnifiedRegion  latitude  longitude UnifiedRegionleft Cornices_Likelihood  \\\n",
       "0       Mt Hood     45.25    -121.75           Mt Hood             no-data   \n",
       "1       Mt Hood     45.25    -121.75           Mt Hood             no-data   \n",
       "2       Mt Hood     45.25    -121.75           Mt Hood             no-data   \n",
       "3       Mt Hood     45.25    -121.75           Mt Hood             no-data   \n",
       "4       Mt Hood     45.25    -121.75           Mt Hood             no-data   \n",
       "\n",
       "  Cornices_MaximumSize Cornices_MinimumSize Cornices_OctagonAboveTreelineEast  \\\n",
       "0              no-data              no-data                           no-data   \n",
       "1              no-data              no-data                           no-data   \n",
       "2              no-data              no-data                           no-data   \n",
       "3              no-data              no-data                           no-data   \n",
       "4              no-data              no-data                           no-data   \n",
       "\n",
       "  Cornices_OctagonAboveTreelineNorth Cornices_OctagonAboveTreelineNorthEast  \\\n",
       "0                            no-data                                no-data   \n",
       "1                            no-data                                no-data   \n",
       "2                            no-data                                no-data   \n",
       "3                            no-data                                no-data   \n",
       "4                            no-data                                no-data   \n",
       "\n",
       "   ... image_types image_urls rose_url BottomLineSummary Day1WarningText  \\\n",
       "0  ...     no-data    no-data  no-data           no-data         no-data   \n",
       "1  ...     no-data    no-data  no-data           no-data         no-data   \n",
       "2  ...     no-data    no-data  no-data           no-data         no-data   \n",
       "3  ...     no-data    no-data  no-data           no-data         no-data   \n",
       "4  ...     no-data    no-data  no-data           no-data         no-data   \n",
       "\n",
       "  Day2WarningText parsed_date season Day1DangerAboveTreelineValue  \\\n",
       "0         no-data  2015-12-05  15-16                          1.0   \n",
       "1         no-data  2015-12-06  15-16                          1.0   \n",
       "2         no-data  2015-12-07  15-16                          2.0   \n",
       "3         no-data  2015-12-08  15-16                          2.0   \n",
       "4         no-data  2015-12-09  15-16                          1.0   \n",
       "\n",
       "  Day1DangerAboveTreelineWithTrend  \n",
       "0                 Moderate_Initial  \n",
       "1                    Moderate_Flat  \n",
       "2              Considerable_Rising  \n",
       "3                Considerable_Flat  \n",
       "4                 Moderate_Falling  \n",
       "\n",
       "[5 rows x 302 columns]"
      ]
     },
     "execution_count": 9,
     "metadata": {},
     "output_type": "execute_result"
    }
   ],
   "source": [
    "train_labels.head()"
   ]
  },
  {
   "cell_type": "code",
   "execution_count": null,
   "metadata": {},
   "outputs": [],
   "source": []
  },
  {
   "cell_type": "code",
   "execution_count": 15,
   "metadata": {},
   "outputs": [],
   "source": [
    "d1 = pml.get_data_zarr(train_labels.loc[0,'UnifiedRegion'], train_labels.loc[0,'latitude'], train_labels.loc[0,'longitude'], 7, train_labels.loc[0,'parsed_date'])"
   ]
  },
  {
   "cell_type": "code",
   "execution_count": 16,
   "metadata": {},
   "outputs": [
    {
     "data": {
      "text/html": [
       "<pre>&lt;xarray.Dataset&gt;\n",
       "Dimensions:    (time: 7, variable: 978)\n",
       "Coordinates:\n",
       "    latitude   float64 45.25\n",
       "    longitude  float64 -121.8\n",
       "  * variable   (variable) &lt;U52 &#x27;UGRD_planetaryboundarylayer_min&#x27; ... &#x27;N5WAVH_500mb_avg&#x27;\n",
       "Dimensions without coordinates: time\n",
       "Data variables:\n",
       "    vars       (variable, time) float64 -4.3 -2.9 -3.6 ... 5.572e+03 5.532e+03</pre>"
      ],
      "text/plain": [
       "<xarray.Dataset>\n",
       "Dimensions:    (time: 7, variable: 978)\n",
       "Coordinates:\n",
       "    latitude   float64 45.25\n",
       "    longitude  float64 -121.8\n",
       "  * variable   (variable) <U52 'UGRD_planetaryboundarylayer_min' ... 'N5WAVH_500mb_avg'\n",
       "Dimensions without coordinates: time\n",
       "Data variables:\n",
       "    vars       (variable, time) float64 -4.3 -2.9 -3.6 ... 5.572e+03 5.532e+03"
      ]
     },
     "execution_count": 16,
     "metadata": {},
     "output_type": "execute_result"
    }
   ],
   "source": [
    "d1"
   ]
  },
  {
   "cell_type": "code",
   "execution_count": 17,
   "metadata": {},
   "outputs": [],
   "source": [
    "d2 = pml.get_data_zarr(test_labels.loc[0,'UnifiedRegion'], test_labels.loc[0,'latitude'], test_labels.loc[0,'longitude'], 7, test_labels.loc[0,'parsed_date'])"
   ]
  },
  {
   "cell_type": "code",
   "execution_count": 18,
   "metadata": {},
   "outputs": [
    {
     "data": {
      "text/html": [
       "<pre>&lt;xarray.Dataset&gt;\n",
       "Dimensions:    (time: 7, variable: 1125)\n",
       "Coordinates:\n",
       "    latitude   float64 45.25\n",
       "    longitude  float64 -121.8\n",
       "  * variable   (variable) &lt;U52 &#x27;UGRD_planetaryboundarylayer_min&#x27; ... &#x27;N5WAVH_500mb_avg&#x27;\n",
       "Dimensions without coordinates: time\n",
       "Data variables:\n",
       "    vars       (variable, time) float64 -5.2 -2.4 1.8 ... 5.515e+03 5.519e+03</pre>"
      ],
      "text/plain": [
       "<xarray.Dataset>\n",
       "Dimensions:    (time: 7, variable: 1125)\n",
       "Coordinates:\n",
       "    latitude   float64 45.25\n",
       "    longitude  float64 -121.8\n",
       "  * variable   (variable) <U52 'UGRD_planetaryboundarylayer_min' ... 'N5WAVH_500mb_avg'\n",
       "Dimensions without coordinates: time\n",
       "Data variables:\n",
       "    vars       (variable, time) float64 -5.2 -2.4 1.8 ... 5.515e+03 5.519e+03"
      ]
     },
     "execution_count": 18,
     "metadata": {},
     "output_type": "execute_result"
    }
   ],
   "source": [
    "d2"
   ]
  },
  {
   "cell_type": "code",
   "execution_count": 19,
   "metadata": {},
   "outputs": [],
   "source": [
    "pml2 = PrepML('/media/scottcha/E1/Data/OAPMLDataOld/', interpolate, date_start='2015-11-01', date_end='2017-04-30', date_train_test_cutoff='2016-11-01')"
   ]
  },
  {
   "cell_type": "code",
   "execution_count": 20,
   "metadata": {},
   "outputs": [],
   "source": [
    "pml2.regions = {            \n",
    "            'Washington': ['Mt Hood', 'Olympics', 'Snoqualmie Pass', 'Stevens Pass',\n",
    "            'WA Cascades East, Central', 'WA Cascades East, North', 'WA Cascades East, South',\n",
    "            'WA Cascades West, Central', 'WA Cascades West, Mt Baker', 'WA Cascades West, South'\n",
    "            ]}"
   ]
  },
  {
   "cell_type": "code",
   "execution_count": 21,
   "metadata": {},
   "outputs": [],
   "source": [
    "d3 = pml2.get_data_zarr(train_labels.loc[0,'UnifiedRegion'], train_labels.loc[0,'latitude'], train_labels.loc[0,'longitude'], 7, train_labels.loc[0,'parsed_date'])"
   ]
  },
  {
   "cell_type": "code",
   "execution_count": 22,
   "metadata": {},
   "outputs": [
    {
     "data": {
      "text/html": [
       "<pre>&lt;xarray.Dataset&gt;\n",
       "Dimensions:    (time: 7, variable: 978)\n",
       "Coordinates:\n",
       "    latitude   float64 45.25\n",
       "    longitude  float64 -121.8\n",
       "  * variable   (variable) &lt;U52 &#x27;UGRD_planetaryboundarylayer_min&#x27; ... &#x27;N5WAVH_500mb_avg&#x27;\n",
       "Dimensions without coordinates: time\n",
       "Data variables:\n",
       "    vars       (variable, time) float64 -4.3 -2.9 -3.6 ... 5.572e+03 5.532e+03</pre>"
      ],
      "text/plain": [
       "<xarray.Dataset>\n",
       "Dimensions:    (time: 7, variable: 978)\n",
       "Coordinates:\n",
       "    latitude   float64 45.25\n",
       "    longitude  float64 -121.8\n",
       "  * variable   (variable) <U52 'UGRD_planetaryboundarylayer_min' ... 'N5WAVH_500mb_avg'\n",
       "Dimensions without coordinates: time\n",
       "Data variables:\n",
       "    vars       (variable, time) float64 -4.3 -2.9 -3.6 ... 5.572e+03 5.532e+03"
      ]
     },
     "execution_count": 22,
     "metadata": {},
     "output_type": "execute_result"
    }
   ],
   "source": [
    "d3"
   ]
  },
  {
   "cell_type": "code",
   "execution_count": 23,
   "metadata": {},
   "outputs": [],
   "source": [
    "d4 = pml2.get_data_zarr(test_labels.loc[0,'UnifiedRegion'], test_labels.loc[0,'latitude'], test_labels.loc[0,'longitude'], 7, test_labels.loc[0,'parsed_date'])"
   ]
  },
  {
   "cell_type": "code",
   "execution_count": 24,
   "metadata": {},
   "outputs": [
    {
     "data": {
      "text/html": [
       "<pre>&lt;xarray.Dataset&gt;\n",
       "Dimensions:    (time: 7, variable: 1125)\n",
       "Coordinates:\n",
       "    latitude   float64 45.25\n",
       "    longitude  float64 -121.8\n",
       "  * variable   (variable) &lt;U52 &#x27;UGRD_planetaryboundarylayer_min&#x27; ... &#x27;N5WAVH_500mb_avg&#x27;\n",
       "Dimensions without coordinates: time\n",
       "Data variables:\n",
       "    vars       (variable, time) float64 -5.2 -2.4 1.8 ... 5.515e+03 5.519e+03</pre>"
      ],
      "text/plain": [
       "<xarray.Dataset>\n",
       "Dimensions:    (time: 7, variable: 1125)\n",
       "Coordinates:\n",
       "    latitude   float64 45.25\n",
       "    longitude  float64 -121.8\n",
       "  * variable   (variable) <U52 'UGRD_planetaryboundarylayer_min' ... 'N5WAVH_500mb_avg'\n",
       "Dimensions without coordinates: time\n",
       "Data variables:\n",
       "    vars       (variable, time) float64 -5.2 -2.4 1.8 ... 5.515e+03 5.519e+03"
      ]
     },
     "execution_count": 24,
     "metadata": {},
     "output_type": "execute_result"
    }
   ],
   "source": [
    "d4"
   ]
  },
  {
   "cell_type": "code",
   "execution_count": null,
   "metadata": {},
   "outputs": [],
   "source": []
  }
 ],
 "metadata": {
  "kernelspec": {
   "display_name": "Python [conda env:pangeo_small3] *",
   "language": "python",
   "name": "conda-env-pangeo_small3-py"
  },
  "language_info": {
   "codemirror_mode": {
    "name": "ipython",
    "version": 3
   },
   "file_extension": ".py",
   "mimetype": "text/x-python",
   "name": "python",
   "nbconvert_exporter": "python",
   "pygments_lexer": "ipython3",
   "version": "3.7.7"
  }
 },
 "nbformat": 4,
 "nbformat_minor": 4
}
