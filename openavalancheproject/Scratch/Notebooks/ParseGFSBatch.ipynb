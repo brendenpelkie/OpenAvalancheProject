{
 "cells": [
  {
   "cell_type": "code",
   "execution_count": 2,
   "metadata": {},
   "outputs": [],
   "source": [
    "#test_ignore\n",
    "#%reload_ext autoreload\n",
    "#%autoreload 2\n",
    "#%matplotlib inline"
   ]
  },
  {
   "cell_type": "code",
   "execution_count": 4,
   "metadata": {},
   "outputs": [],
   "source": [
    "#test_ignore\n",
    "#from openavalancheproject.parse_gfs import ParseGFS"
   ]
  },
  {
   "cell_type": "code",
   "execution_count": 5,
   "metadata": {},
   "outputs": [],
   "source": [
    "#test_ignore\n",
    "#season = '15-16'\n",
    "#state = 'Washington'\n",
    "#snow_start_date = '2015-11-01'\n",
    "\n",
    "#interpolate = 1 #interpolation factor: whether we can to augment the data through lat/lon interpolation; 1 no interpolation, 4 is 4x interpolation\n",
    "\n",
    "#data_root = '/media/scottcha/E1/Data/OAPMLData/'\n",
    "\n",
    "#n_jobs = 4 #number of parallel processes, this processing is IO bound so don't set this too high"
   ]
  },
  {
   "cell_type": "code",
   "execution_count": 6,
   "metadata": {},
   "outputs": [],
   "source": [
    "#export\n",
    "#class ParseGFSBatch(ParseGFS):\n",
    "#    \"\"\"\n",
    "#    \"\"\" \n",
    "#    \n",
    "#    def __init__(self, season, state, data_root, interpolate=1):\n",
    "#        super().__init__(season, state, data_root, interpolate)\n",
    "    \n",
    "    "
   ]
  },
  {
   "cell_type": "code",
   "execution_count": 8,
   "metadata": {},
   "outputs": [
    {
     "name": "stdout",
     "output_type": "stream",
     "text": [
      "/media/scottcha/E1/Data/OAPMLData//1.RawWeatherData/gfs/15-16/Washington/ Is Input Directory\n",
      "/media/scottcha/E1/Data/OAPMLData/2.GFSDaily1xInterpolation/15-16/ Is output directory and input to filtering\n",
      "/media/scottcha/E1/Data/OAPMLData/3.GFSFiltered1xInterpolation/15-16/ Is output directory of filtering\n"
     ]
    }
   ],
   "source": [
    "#test_ignore\n",
    "#pgfs = ParseGFS(season, state, data_root)"
   ]
  },
  {
   "cell_type": "code",
   "execution_count": null,
   "metadata": {},
   "outputs": [],
   "source": []
  }
 ],
 "metadata": {
  "kernelspec": {
   "display_name": "Python [conda env:pangeo_small3] *",
   "language": "python",
   "name": "conda-env-pangeo_small3-py"
  },
  "language_info": {
   "codemirror_mode": {
    "name": "ipython",
    "version": 3
   },
   "file_extension": ".py",
   "mimetype": "text/x-python",
   "name": "python",
   "nbconvert_exporter": "python",
   "pygments_lexer": "ipython3",
   "version": "3.7.7"
  }
 },
 "nbformat": 4,
 "nbformat_minor": 4
}
